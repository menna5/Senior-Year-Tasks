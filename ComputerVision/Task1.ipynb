{
 "cells": [
  {
   "cell_type": "markdown",
   "id": "b2b2dd98",
   "metadata": {},
   "source": [
    "# First Preparing libraries and helper functions"
   ]
  },
  {
   "cell_type": "code",
   "execution_count": 163,
   "id": "ae1d774f",
   "metadata": {},
   "outputs": [],
   "source": [
    "import cv2, os\n",
    "import pandas as pd\n",
    "import matplotlib.pyplot as plt\n",
    "from sklearn.model_selection import train_test_split\n",
    "from sklearn.svm import SVC\n",
    "from sklearn.metrics import accuracy_score"
   ]
  },
  {
   "cell_type": "code",
   "execution_count": 164,
   "id": "13067030",
   "metadata": {},
   "outputs": [],
   "source": [
    "def imread(img_path):\n",
    "    img = cv2.imread(img_path)\n",
    "    img = cv2.cvtColor(img, cv2.COLOR_BGR2RGB)\n",
    "    return img\n",
    "\n",
    "def imshow(img, figsize=(5, 5)):\n",
    "    plt.figure(figsize=figsize)\n",
    "    plt.imshow(img, cmap='gray')\n",
    "    plt.show()\n",
    "    \n",
    "def rgb2bin(img_rgb):\n",
    "    img_gray = cv2.cvtColor(img_rgb, cv2.COLOR_RGB2GRAY)\n",
    "    t, img_bin = cv2.threshold(\n",
    "        img_gray, 0, 255, cv2.THRESH_OTSU|cv2.THRESH_BINARY_INV\n",
    "    )\n",
    "    return img_bin"
   ]
  },
  {
   "cell_type": "code",
   "execution_count": 165,
   "id": "8ade73ec",
   "metadata": {},
   "outputs": [],
   "source": [
    "def find_contours(img_rgb):\n",
    "    img_bin = rgb2bin(img_rgb)\n",
    "    contours, h = cv2.findContours(\n",
    "        img_bin, cv2.RETR_EXTERNAL, cv2.CHAIN_APPROX_NONE\n",
    "    )\n",
    "    return contours\n",
    "    \n",
    "def draw_contours(img, contours, index=-1, color=(255, 0, 0), thickness=2):\n",
    "    img_copy = img.copy()\n",
    "    cv2.drawContours(img_copy, contours, index, color, thickness)\n",
    "    imshow(img_copy)\n",
    "    \n",
    "def chain_hist(img_rgb):\n",
    "    contours = find_contours(img_rgb)\n",
    "    hists = []\n",
    "    lookup_table = {\n",
    "        (1, 0): 0,\n",
    "        (1, -1): 1,\n",
    "        (0, -1): 2,\n",
    "        (-1, -1): 3,\n",
    "        (-1, 0): 4,\n",
    "        (-1, 1): 5,\n",
    "        (0, 1): 6,\n",
    "        (1, 1): 7\n",
    "    }\n",
    "    for contour in contours:\n",
    "        hist = np.zeros((8,))\n",
    "        for i in range(len(contour)-1):\n",
    "            pt1 = contour[i][0]\n",
    "            pt2 = contour[i+1][0]\n",
    "            dx = pt2[0] - pt1[0]\n",
    "            dy = pt2[1] - pt1[1]\n",
    "            code = lookup_table[(dx, dy)]\n",
    "            hist[code] += 1\n",
    "        hists.append(hist/hist.sum())\n",
    "\n",
    "    return hists"
   ]
  },
  {
   "cell_type": "code",
   "execution_count": 167,
   "id": "ec881685",
   "metadata": {
    "scrolled": true
   },
   "outputs": [
    {
     "name": "stdout",
     "output_type": "stream",
     "text": [
      "[0.15555556 0.08888889 0.17777778 0.08888889 0.13333333 0.08888889\n",
      " 0.17777778 0.08888889]\n"
     ]
    }
   ],
   "source": [
    "# Checking the function\n",
    "print(chain_hist(img)[0])"
   ]
  },
  {
   "cell_type": "code",
   "execution_count": 168,
   "id": "c648b1c1",
   "metadata": {},
   "outputs": [],
   "source": [
    "# Now getting the data to train a model\n",
    "def create_df(data_path):\n",
    "    \n",
    "    # the class_dict is a mapping between class name and value\n",
    "    class_dict = {\n",
    "        'circle': 0,\n",
    "        'square': 1,\n",
    "        'star': 2,\n",
    "        'triangle': 3\n",
    "    }\n",
    "    \n",
    "    # we store image paths and outputs here\n",
    "    df = []\n",
    "    \n",
    "    # for each class\n",
    "    for class_name, class_value in class_dict.items():\n",
    "        class_folder = os.path.join(data_path, class_name)\n",
    "        # for each image in class folder\n",
    "        for f in os.listdir(class_folder):\n",
    "            f_path = os.path.join(class_folder, f)\n",
    "            # if this is a \"png\" file, add its path and output\n",
    "            if f_path.lower().endswith('.png'):\n",
    "                df.append([f_path, class_value])\n",
    "    \n",
    "    # create a dataframe of image paths and outputs\n",
    "    df = pd.DataFrame(df, columns=['path', 'output'])\n",
    "    \n",
    "    return df"
   ]
  },
  {
   "cell_type": "code",
   "execution_count": 169,
   "id": "32cbc63d",
   "metadata": {},
   "outputs": [
    {
     "data": {
      "text/html": [
       "<div>\n",
       "<style scoped>\n",
       "    .dataframe tbody tr th:only-of-type {\n",
       "        vertical-align: middle;\n",
       "    }\n",
       "\n",
       "    .dataframe tbody tr th {\n",
       "        vertical-align: top;\n",
       "    }\n",
       "\n",
       "    .dataframe thead th {\n",
       "        text-align: right;\n",
       "    }\n",
       "</style>\n",
       "<table border=\"1\" class=\"dataframe\">\n",
       "  <thead>\n",
       "    <tr style=\"text-align: right;\">\n",
       "      <th></th>\n",
       "      <th>path</th>\n",
       "      <th>output</th>\n",
       "    </tr>\n",
       "  </thead>\n",
       "  <tbody>\n",
       "    <tr>\n",
       "      <th>0</th>\n",
       "      <td>shapes/shapes/circle\\0.png</td>\n",
       "      <td>0</td>\n",
       "    </tr>\n",
       "    <tr>\n",
       "      <th>1</th>\n",
       "      <td>shapes/shapes/circle\\1.png</td>\n",
       "      <td>0</td>\n",
       "    </tr>\n",
       "    <tr>\n",
       "      <th>2</th>\n",
       "      <td>shapes/shapes/circle\\10.png</td>\n",
       "      <td>0</td>\n",
       "    </tr>\n",
       "    <tr>\n",
       "      <th>3</th>\n",
       "      <td>shapes/shapes/circle\\100.png</td>\n",
       "      <td>0</td>\n",
       "    </tr>\n",
       "    <tr>\n",
       "      <th>4</th>\n",
       "      <td>shapes/shapes/circle\\1000.png</td>\n",
       "      <td>0</td>\n",
       "    </tr>\n",
       "    <tr>\n",
       "      <th>...</th>\n",
       "      <td>...</td>\n",
       "      <td>...</td>\n",
       "    </tr>\n",
       "    <tr>\n",
       "      <th>14965</th>\n",
       "      <td>shapes/shapes/triangle\\995.png</td>\n",
       "      <td>3</td>\n",
       "    </tr>\n",
       "    <tr>\n",
       "      <th>14966</th>\n",
       "      <td>shapes/shapes/triangle\\996.png</td>\n",
       "      <td>3</td>\n",
       "    </tr>\n",
       "    <tr>\n",
       "      <th>14967</th>\n",
       "      <td>shapes/shapes/triangle\\997.png</td>\n",
       "      <td>3</td>\n",
       "    </tr>\n",
       "    <tr>\n",
       "      <th>14968</th>\n",
       "      <td>shapes/shapes/triangle\\998.png</td>\n",
       "      <td>3</td>\n",
       "    </tr>\n",
       "    <tr>\n",
       "      <th>14969</th>\n",
       "      <td>shapes/shapes/triangle\\999.png</td>\n",
       "      <td>3</td>\n",
       "    </tr>\n",
       "  </tbody>\n",
       "</table>\n",
       "<p>14970 rows × 2 columns</p>\n",
       "</div>"
      ],
      "text/plain": [
       "                                 path  output\n",
       "0          shapes/shapes/circle\\0.png       0\n",
       "1          shapes/shapes/circle\\1.png       0\n",
       "2         shapes/shapes/circle\\10.png       0\n",
       "3        shapes/shapes/circle\\100.png       0\n",
       "4       shapes/shapes/circle\\1000.png       0\n",
       "...                               ...     ...\n",
       "14965  shapes/shapes/triangle\\995.png       3\n",
       "14966  shapes/shapes/triangle\\996.png       3\n",
       "14967  shapes/shapes/triangle\\997.png       3\n",
       "14968  shapes/shapes/triangle\\998.png       3\n",
       "14969  shapes/shapes/triangle\\999.png       3\n",
       "\n",
       "[14970 rows x 2 columns]"
      ]
     },
     "execution_count": 169,
     "metadata": {},
     "output_type": "execute_result"
    }
   ],
   "source": [
    "data = create_df('shapes/shapes/')\n",
    "data"
   ]
  },
  {
   "cell_type": "code",
   "execution_count": 11,
   "id": "52f0c80b",
   "metadata": {},
   "outputs": [],
   "source": [
    "from tqdm import tqdm\n",
    "\n",
    "def extract_features(img_paths):\n",
    "    n = len(img_paths)\n",
    "    X = np.zeros((n, 8))\n",
    "    for i in tqdm(range(n)):\n",
    "        f_path = img_paths[i]\n",
    "        img = imread(f_path)\n",
    "        features = chain_hist(img)\n",
    "        X[i] = features\n",
    "    return X"
   ]
  },
  {
   "cell_type": "code",
   "execution_count": 12,
   "id": "a2540740",
   "metadata": {},
   "outputs": [
    {
     "name": "stderr",
     "output_type": "stream",
     "text": [
      "100%|███████████████████████████████████████████████████████████████████████████| 14970/14970 [00:18<00:00, 821.82it/s]\n"
     ]
    }
   ],
   "source": [
    "X = extract_features(data['path'])"
   ]
  },
  {
   "cell_type": "code",
   "execution_count": 13,
   "id": "613ef29e",
   "metadata": {},
   "outputs": [],
   "source": [
    "y = data['output']"
   ]
  },
  {
   "cell_type": "code",
   "execution_count": 14,
   "id": "8f0e75da",
   "metadata": {},
   "outputs": [],
   "source": [
    "X_train, X_test, y_train, y_test = train_test_split(\n",
    "    X, y, test_size=0.30, random_state=0\n",
    ")"
   ]
  },
  {
   "cell_type": "code",
   "execution_count": 16,
   "id": "b1c8a01e",
   "metadata": {},
   "outputs": [
    {
     "data": {
      "text/html": [
       "<style>#sk-container-id-1 {color: black;background-color: white;}#sk-container-id-1 pre{padding: 0;}#sk-container-id-1 div.sk-toggleable {background-color: white;}#sk-container-id-1 label.sk-toggleable__label {cursor: pointer;display: block;width: 100%;margin-bottom: 0;padding: 0.3em;box-sizing: border-box;text-align: center;}#sk-container-id-1 label.sk-toggleable__label-arrow:before {content: \"▸\";float: left;margin-right: 0.25em;color: #696969;}#sk-container-id-1 label.sk-toggleable__label-arrow:hover:before {color: black;}#sk-container-id-1 div.sk-estimator:hover label.sk-toggleable__label-arrow:before {color: black;}#sk-container-id-1 div.sk-toggleable__content {max-height: 0;max-width: 0;overflow: hidden;text-align: left;background-color: #f0f8ff;}#sk-container-id-1 div.sk-toggleable__content pre {margin: 0.2em;color: black;border-radius: 0.25em;background-color: #f0f8ff;}#sk-container-id-1 input.sk-toggleable__control:checked~div.sk-toggleable__content {max-height: 200px;max-width: 100%;overflow: auto;}#sk-container-id-1 input.sk-toggleable__control:checked~label.sk-toggleable__label-arrow:before {content: \"▾\";}#sk-container-id-1 div.sk-estimator input.sk-toggleable__control:checked~label.sk-toggleable__label {background-color: #d4ebff;}#sk-container-id-1 div.sk-label input.sk-toggleable__control:checked~label.sk-toggleable__label {background-color: #d4ebff;}#sk-container-id-1 input.sk-hidden--visually {border: 0;clip: rect(1px 1px 1px 1px);clip: rect(1px, 1px, 1px, 1px);height: 1px;margin: -1px;overflow: hidden;padding: 0;position: absolute;width: 1px;}#sk-container-id-1 div.sk-estimator {font-family: monospace;background-color: #f0f8ff;border: 1px dotted black;border-radius: 0.25em;box-sizing: border-box;margin-bottom: 0.5em;}#sk-container-id-1 div.sk-estimator:hover {background-color: #d4ebff;}#sk-container-id-1 div.sk-parallel-item::after {content: \"\";width: 100%;border-bottom: 1px solid gray;flex-grow: 1;}#sk-container-id-1 div.sk-label:hover label.sk-toggleable__label {background-color: #d4ebff;}#sk-container-id-1 div.sk-serial::before {content: \"\";position: absolute;border-left: 1px solid gray;box-sizing: border-box;top: 0;bottom: 0;left: 50%;z-index: 0;}#sk-container-id-1 div.sk-serial {display: flex;flex-direction: column;align-items: center;background-color: white;padding-right: 0.2em;padding-left: 0.2em;position: relative;}#sk-container-id-1 div.sk-item {position: relative;z-index: 1;}#sk-container-id-1 div.sk-parallel {display: flex;align-items: stretch;justify-content: center;background-color: white;position: relative;}#sk-container-id-1 div.sk-item::before, #sk-container-id-1 div.sk-parallel-item::before {content: \"\";position: absolute;border-left: 1px solid gray;box-sizing: border-box;top: 0;bottom: 0;left: 50%;z-index: -1;}#sk-container-id-1 div.sk-parallel-item {display: flex;flex-direction: column;z-index: 1;position: relative;background-color: white;}#sk-container-id-1 div.sk-parallel-item:first-child::after {align-self: flex-end;width: 50%;}#sk-container-id-1 div.sk-parallel-item:last-child::after {align-self: flex-start;width: 50%;}#sk-container-id-1 div.sk-parallel-item:only-child::after {width: 0;}#sk-container-id-1 div.sk-dashed-wrapped {border: 1px dashed gray;margin: 0 0.4em 0.5em 0.4em;box-sizing: border-box;padding-bottom: 0.4em;background-color: white;}#sk-container-id-1 div.sk-label label {font-family: monospace;font-weight: bold;display: inline-block;line-height: 1.2em;}#sk-container-id-1 div.sk-label-container {text-align: center;}#sk-container-id-1 div.sk-container {/* jupyter's `normalize.less` sets `[hidden] { display: none; }` but bootstrap.min.css set `[hidden] { display: none !important; }` so we also need the `!important` here to be able to override the default hidden behavior on the sphinx rendered scikit-learn.org. See: https://github.com/scikit-learn/scikit-learn/issues/21755 */display: inline-block !important;position: relative;}#sk-container-id-1 div.sk-text-repr-fallback {display: none;}</style><div id=\"sk-container-id-1\" class=\"sk-top-container\"><div class=\"sk-text-repr-fallback\"><pre>SVC()</pre><b>In a Jupyter environment, please rerun this cell to show the HTML representation or trust the notebook. <br />On GitHub, the HTML representation is unable to render, please try loading this page with nbviewer.org.</b></div><div class=\"sk-container\" hidden><div class=\"sk-item\"><div class=\"sk-estimator sk-toggleable\"><input class=\"sk-toggleable__control sk-hidden--visually\" id=\"sk-estimator-id-1\" type=\"checkbox\" checked><label for=\"sk-estimator-id-1\" class=\"sk-toggleable__label sk-toggleable__label-arrow\">SVC</label><div class=\"sk-toggleable__content\"><pre>SVC()</pre></div></div></div></div></div>"
      ],
      "text/plain": [
       "SVC()"
      ]
     },
     "execution_count": 16,
     "metadata": {},
     "output_type": "execute_result"
    }
   ],
   "source": [
    "model = SVC()\n",
    "model.fit(X_train, y_train)"
   ]
  },
  {
   "cell_type": "code",
   "execution_count": 17,
   "id": "2bdb8f4d",
   "metadata": {},
   "outputs": [
    {
     "name": "stdout",
     "output_type": "stream",
     "text": [
      "0.9370168909247065\n",
      "0.9423291026497439\n"
     ]
    }
   ],
   "source": [
    "y_pred_train = model.predict(X_train)\n",
    "y_pred_test = model.predict(X_test)\n",
    "\n",
    "print(accuracy_score(y_train, y_pred_train))\n",
    "print(accuracy_score(y_test, y_pred_test))"
   ]
  },
  {
   "cell_type": "code",
   "execution_count": 171,
   "id": "58f4af93",
   "metadata": {
    "scrolled": false
   },
   "outputs": [
    {
     "data": {
      "image/png": "[encoded data removed]",
      "text/plain": [
       "<Figure size 360x360 with 1 Axes>"
      ]
     },
     "metadata": {
      "needs_background": "light"
     },
     "output_type": "display_data"
    }
   ],
   "source": [
    "img = imread('images/shapes.png')\n",
    "imshow(img)"
   ]
  },
  {
   "cell_type": "code",
   "execution_count": 173,
   "id": "7d35f083",
   "metadata": {},
   "outputs": [
    {
     "data": {
      "text/plain": [
       "['square', 'star', 'triangle', 'triangle', 'square', 'star', 'square', 'star']"
      ]
     },
     "execution_count": 173,
     "metadata": {},
     "output_type": "execute_result"
    }
   ],
   "source": [
    "shapes = chain_hist(img)\n",
    "result = []\n",
    "classes = ['circle', 'square', 'star', 'triangle']\n",
    "for shape in shapes:\n",
    "    y = model.predict([shape])[0]\n",
    "    result.append(classes[y])\n",
    "result   "
   ]
  },
  {
   "cell_type": "code",
   "execution_count": 174,
   "id": "7d1e1e4f",
   "metadata": {},
   "outputs": [],
   "source": [
    "img_gray = cv2.cvtColor(img, cv2.COLOR_RGB2GRAY)\n",
    "t, img_shapes_bin = cv2.threshold(\n",
    "    img_gray,\n",
    "    0,\n",
    "    255,\n",
    "    cv2.THRESH_OTSU|cv2.THRESH_BINARY_INV\n",
    ")\n",
    "components = cv2.connectedComponentsWithStats(\n",
    "    img_shapes_bin, connectivity=4)\n",
    "\n",
    "(nLabels, labels, stats, centroids) = components\n",
    "\n",
    "centroids = centroids.astype(int)"
   ]
  },
  {
   "cell_type": "code",
   "execution_count": 175,
   "id": "5306668c",
   "metadata": {},
   "outputs": [
    {
     "data": {
      "image/png": "[encoded data removed]",
      "text/plain": [
       "<Figure size 360x360 with 1 Axes>"
      ]
     },
     "metadata": {
      "needs_background": "light"
     },
     "output_type": "display_data"
    }
   ],
   "source": [
    "# copy image to avoid drawing on the original image\n",
    "img = img.copy()\n",
    "j = 0\n",
    "for i in range(1, nLabels):\n",
    "    x, y, w, h, area = stats[i]\n",
    "    \n",
    "    acceptWidth = (w > 40 and w < 150)\n",
    "    acceptHeight = (h > 40 and h < 150)\n",
    "\n",
    "    if acceptWidth and acceptHeight:\n",
    "        cv2.rectangle(img, (x-10, y-10), (x+w+10, y+h+10), (255, 0, 0), 3)\n",
    "        cv2.putText(img, result[j], \n",
    "                org = (x+10, y-20), \n",
    "                fontFace = cv2.FONT_HERSHEY_DUPLEX, \n",
    "                fontScale = 1.0, color = (255, 0, 0),\n",
    "                thickness = 2)\n",
    "        j += 1\n",
    "# show image with locations of detected components\n",
    "imshow(img)"
   ]
  },
  {
   "cell_type": "code",
   "execution_count": 178,
   "id": "faab0149",
   "metadata": {},
   "outputs": [],
   "source": [
    "# After Sorting results manually\n",
    "result2 = ['Star', 'Square', 'Star', 'Circle', 'Triangle', 'Triangle', 'Star', 'Square']"
   ]
  },
  {
   "cell_type": "code",
   "execution_count": 179,
   "id": "abf836fa",
   "metadata": {},
   "outputs": [],
   "source": [
    "# Using th same code to check after sorting\n",
    "img = imread('images/shapes.png')\n",
    "img_gray = cv2.cvtColor(img, cv2.COLOR_RGB2GRAY)\n",
    "t, img_shapes_bin = cv2.threshold(\n",
    "    img_gray,\n",
    "    0,\n",
    "    255,\n",
    "    cv2.THRESH_OTSU|cv2.THRESH_BINARY_INV\n",
    ")\n",
    "components = cv2.connectedComponentsWithStats(\n",
    "    img_shapes_bin, connectivity=4)\n",
    "\n",
    "(nLabels, labels, stats, centroids) = components\n",
    "\n",
    "centroids = centroids.astype(int)"
   ]
  },
  {
   "cell_type": "code",
   "execution_count": 180,
   "id": "4e5683e4",
   "metadata": {},
   "outputs": [
    {
     "data": {
      "image/png": "[encoded data removed]",
      "text/plain": [
       "<Figure size 360x360 with 1 Axes>"
      ]
     },
     "metadata": {
      "needs_background": "light"
     },
     "output_type": "display_data"
    }
   ],
   "source": [
    "# copy image to avoid drawing on the original image\n",
    "img = img.copy()\n",
    "j = 0\n",
    "for i in range(1, nLabels):\n",
    "    x, y, w, h, area = stats[i]\n",
    "    \n",
    "    acceptWidth = (w > 40 and w < 150)\n",
    "    acceptHeight = (h > 40 and h < 150)\n",
    "\n",
    "    if acceptWidth and acceptHeight:\n",
    "        cv2.rectangle(img, (x-10, y-10), (x+w+10, y+h+10), (255, 0, 0), 3)\n",
    "        cv2.putText(img, result2[j], \n",
    "                org = (x+10, y-20), \n",
    "                fontFace = cv2.FONT_HERSHEY_DUPLEX, \n",
    "                fontScale = 1.0, color = (255, 0, 0),\n",
    "                thickness = 2)\n",
    "        j += 1\n",
    "# show image with locations of detected components\n",
    "imshow(img)"
   ]
  }
 ],
 "metadata": {
  "kernelspec": {
   "display_name": "Python 3 (ipykernel)",
   "language": "python",
   "name": "python3"
  },
  "language_info": {
   "codemirror_mode": {
    "name": "ipython",
    "version": 3
   },
   "file_extension": ".py",
   "mimetype": "text/x-python",
   "name": "python",
   "nbconvert_exporter": "python",
   "pygments_lexer": "ipython3",
   "version": "3.9.12"
  }
 },
 "nbformat": 4,
 "nbformat_minor": 5
}
